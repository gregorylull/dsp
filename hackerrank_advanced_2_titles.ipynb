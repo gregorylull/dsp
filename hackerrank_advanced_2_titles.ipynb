{
 "cells": [
  {
   "cell_type": "code",
   "execution_count": 1,
   "metadata": {},
   "outputs": [],
   "source": [
    "import sys\n",
    "\n"
   ]
  },
  {
   "cell_type": "code",
   "execution_count": 15,
   "metadata": {},
   "outputs": [
    {
     "name": "stdout",
     "output_type": "stream",
     "text": [
      "{\n",
      "    \"associate professor of biostatistics\": 12,\n",
      "    \"professor of biostatistics\": 13,\n",
      "    \"assistant professor of biostatistics\": 12\n",
      "}\n"
     ]
    }
   ],
   "source": [
    "from collections import defaultdict\n",
    "import re\n",
    "\n",
    "# import json\n",
    "\n",
    "def clean_title(title):\n",
    "    title = re.sub(r'\\sis\\s', ' of ', title)\n",
    "    \n",
    "    return title\n",
    "\n",
    "def count_titles(csv_file_name):\n",
    "    lines = (re.sub(r'\\n$', '', line) for line in open(csv_file_name))\n",
    "    rows = (re.sub(r',\\s?', ',', line).split(',') for line in lines)\n",
    "    \n",
    "    # maybe stripping out too many things with the regex\n",
    "    # normalized_row = ([re.sub(r'[^a-zA-Z0-9\\s]', '', col).strip().lower() for col in row] for row in rows)\n",
    "    \n",
    "    normalized_row = ([col.strip().lower() for col in row] for row in rows)\n",
    "    \n",
    "    headers = next(normalized_row)\n",
    "    \n",
    "    flattened_dict = (dict(zip(headers, row)) for row in normalized_row)\n",
    "    \n",
    "    titles_count = defaultdict(int)\n",
    "    \n",
    "    for row in flattened_dict:\n",
    "        title = clean_title(row['title'])\n",
    "        titles_count[title] += 1\n",
    "\n",
    "    # print(json.dumps(titles_count, indent=4))\n",
    "        \n",
    "    return titles_count\n",
    "    \n",
    "        \n",
    "\n",
    "count_titles('faculty.csv')"
   ]
  },
  {
   "cell_type": "code",
   "execution_count": null,
   "metadata": {},
   "outputs": [],
   "source": []
  }
 ],
 "metadata": {
  "kernelspec": {
   "display_name": "Python 3",
   "language": "python",
   "name": "python3"
  },
  "language_info": {
   "codemirror_mode": {
    "name": "ipython",
    "version": 3
   },
   "file_extension": ".py",
   "mimetype": "text/x-python",
   "name": "python",
   "nbconvert_exporter": "python",
   "pygments_lexer": "ipython3",
   "version": "3.7.4"
  }
 },
 "nbformat": 4,
 "nbformat_minor": 2
}
