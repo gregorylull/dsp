{
 "cells": [
  {
   "cell_type": "code",
   "execution_count": 1,
   "metadata": {},
   "outputs": [
    {
     "data": {
      "text/plain": [
       "'\\n    Coming from javascript here are some helpful things to know.\\n'"
      ]
     },
     "execution_count": 1,
     "metadata": {},
     "output_type": "execute_result"
    }
   ],
   "source": [
    "\"\"\"\n",
    "    Coming from javascript here are some helpful things to know.\n",
    "\"\"\""
   ]
  },
  {
   "cell_type": "markdown",
   "metadata": {},
   "source": [
    "### Overloading operators\n",
    "\n",
    "Operators such as + - / * > < == can all be overloaded to do something else depending on how a Class overrides its function.\n",
    "\n",
    "[operators](https://docs.python.org/3.4/library/operator.html)\n",
    "\n"
   ]
  },
  {
   "cell_type": "code",
   "execution_count": 18,
   "metadata": {},
   "outputs": [
    {
     "name": "stdout",
     "output_type": "stream",
     "text": [
      "Error: list cannot be divided by a int.\n",
      "\n",
      "Printable list: [2, 4, 6]\n",
      "After division: [1.0, 2.0, 3.0]\n"
     ]
    }
   ],
   "source": [
    "# this makes sense\n",
    "10 / 2 == 5\n",
    "\n",
    "# this doesn't make sense\n",
    "try:\n",
    "    [2, 4, 6] / 2\n",
    "except:\n",
    "    print('Error: list cannot be divided by a int.\\n')\n",
    "\n",
    "# how to do this?\n",
    "\n",
    "class DividableList:\n",
    "    def __init__(self, list_):\n",
    "        self.list = list_\n",
    "        \n",
    "    # overwrite the quotient operator and return a new instance of itself.\n",
    "    def __truediv__(self, divisor):\n",
    "        return DividableList([ item / divisor for item in self.list])\n",
    "    \n",
    "    def __str__(self):\n",
    "        return '[' + (', ').join(str(item) for item in self.list) + ']'\n",
    "        \n",
    "\n",
    "dividable_list = DividableList([2, 4, 6])\n",
    "\n",
    "print('Printable list:', dividable_list) # [2, 4, 6]\n",
    "\n",
    "print('After division:', dividable_list / 2)\n",
    "\n"
   ]
  },
  {
   "cell_type": "markdown",
   "metadata": {},
   "source": [
    "# Keyword arguments vs position arguments"
   ]
  },
  {
   "cell_type": "code",
   "execution_count": 19,
   "metadata": {},
   "outputs": [
    {
     "ename": "NameError",
     "evalue": "name 'test' is not defined",
     "output_type": "error",
     "traceback": [
      "\u001b[0;31m---------------------------------------------------------------------------\u001b[0m",
      "\u001b[0;31mNameError\u001b[0m                                 Traceback (most recent call last)",
      "\u001b[0;32m<ipython-input-19-2ee725df2eb8>\u001b[0m in \u001b[0;36m<module>\u001b[0;34m\u001b[0m\n\u001b[1;32m      1\u001b[0m \u001b[0;31m# invoking a function like this requires the Developer to know which parameter relates to which position.\u001b[0m\u001b[0;34m\u001b[0m\u001b[0;34m\u001b[0m\u001b[0;34m\u001b[0m\u001b[0m\n\u001b[0;32m----> 2\u001b[0;31m \u001b[0mtest\u001b[0m\u001b[0;34m(\u001b[0m\u001b[0;34m{\u001b[0m\u001b[0;34m'test'\u001b[0m\u001b[0;34m:\u001b[0m \u001b[0;32mTrue\u001b[0m\u001b[0;34m}\u001b[0m\u001b[0;34m,\u001b[0m \u001b[0;36m1\u001b[0m\u001b[0;34m,\u001b[0m \u001b[0;32mTrue\u001b[0m\u001b[0;34m)\u001b[0m\u001b[0;34m\u001b[0m\u001b[0;34m\u001b[0m\u001b[0m\n\u001b[0m\u001b[1;32m      3\u001b[0m \u001b[0;34m\u001b[0m\u001b[0m\n\u001b[1;32m      4\u001b[0m \u001b[0;31m# can also pass in a config object for this. How is a class defined like this.\u001b[0m\u001b[0;34m\u001b[0m\u001b[0;34m\u001b[0m\u001b[0;34m\u001b[0m\u001b[0m\n\u001b[1;32m      5\u001b[0m \u001b[0;34m\u001b[0m\u001b[0m\n",
      "\u001b[0;31mNameError\u001b[0m: name 'test' is not defined"
     ]
    }
   ],
   "source": [
    "# invoking a function like this requires the Developer to know which parameter relates to which position.\n",
    "test({'test': True}, 1, True)\n",
    "\n",
    "# can also pass in a config object for this. How is a class defined like this.\n",
    "\n",
    "# Python you can:\n",
    "test(inline=True, columns=1, data={'test': true})\n"
   ]
  },
  {
   "cell_type": "markdown",
   "metadata": {},
   "source": [
    "# context: this vs self"
   ]
  },
  {
   "cell_type": "markdown",
   "metadata": {},
   "source": [
    "# data structure object vs dict"
   ]
  },
  {
   "cell_type": "markdown",
   "metadata": {},
   "source": [
    "\n",
    "# destructuring"
   ]
  },
  {
   "cell_type": "markdown",
   "metadata": {},
   "source": [
    "# anonymous functions"
   ]
  },
  {
   "cell_type": "code",
   "execution_count": null,
   "metadata": {},
   "outputs": [],
   "source": []
  }
 ],
 "metadata": {
  "kernelspec": {
   "display_name": "Python 3",
   "language": "python",
   "name": "python3"
  },
  "language_info": {
   "codemirror_mode": {
    "name": "ipython",
    "version": 3
   },
   "file_extension": ".py",
   "mimetype": "text/x-python",
   "name": "python",
   "nbconvert_exporter": "python",
   "pygments_lexer": "ipython3",
   "version": "3.7.4"
  }
 },
 "nbformat": 4,
 "nbformat_minor": 2
}
