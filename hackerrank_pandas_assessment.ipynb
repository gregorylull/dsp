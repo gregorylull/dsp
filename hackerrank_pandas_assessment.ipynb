{
 "cells": [
  {
   "cell_type": "code",
   "execution_count": 1,
   "metadata": {},
   "outputs": [],
   "source": [
    "# file http://s3.amazonaws.com/istreet-assets/cqj0wXOp6sICdTRWc5X2cw/olive.csv.txt"
   ]
  },
  {
   "cell_type": "code",
   "execution_count": 2,
   "metadata": {},
   "outputs": [],
   "source": [
    "# WARNING: If you close your browser, your work will be LOST!\n",
    "\n",
    "# Q1: import numpy and pandas"
   ]
  },
  {
   "cell_type": "code",
   "execution_count": null,
   "metadata": {},
   "outputs": [],
   "source": [
    "\n",
    "# Q2: Set options in pandas so it displays 30 `max_rows` \n",
    "#                                 no limit on `max_columns`\n",
    "#                                 precision is 3\n"
   ]
  },
  {
   "cell_type": "code",
   "execution_count": null,
   "metadata": {},
   "outputs": [],
   "source": [
    "# Q3: assign the versions of pandas and numpy to variables below\n",
    "pd_version = \n",
    "np_version = \n"
   ]
  },
  {
   "cell_type": "code",
   "execution_count": 3,
   "metadata": {},
   "outputs": [
    {
     "ename": "SyntaxError",
     "evalue": "invalid syntax (<ipython-input-3-fec2ec665939>, line 6)",
     "output_type": "error",
     "traceback": [
      "\u001b[0;36m  File \u001b[0;32m\"<ipython-input-3-fec2ec665939>\"\u001b[0;36m, line \u001b[0;32m6\u001b[0m\n\u001b[0;31m    pd_version =\u001b[0m\n\u001b[0m                 ^\u001b[0m\n\u001b[0;31mSyntaxError\u001b[0m\u001b[0;31m:\u001b[0m invalid syntax\n"
     ]
    }
   ],
   "source": [
    "\n",
    "\n",
    "\n",
    "# Q4: Read in the csv file \"olive.csv\" with pandas. \n",
    "#     The filename is stored in the variable `olive_path`\n",
    "#     Assign it to variable `df`\n",
    "df = \n",
    "\n",
    "# The fields are:\n",
    "\n",
    "# Unnamed: 0\n",
    "# region\n",
    "# area\n",
    "# palmitic\n",
    "# palmitoleic\n",
    "# stearic\n",
    "# oleic\n",
    "# linoleic\n",
    "# linolenic\n",
    "# arachidic\n",
    "# eicosenoic\n",
    "\n",
    "\n",
    "\n",
    "# Q5: How many rows and columns are there in `df`? Put your answer in a variable `df_shape`.\n",
    "df_shape = \n",
    "\n",
    "# Q6: assign the first 2 rows of `df` to `df_first_two`\n",
    "df_first_two = \n",
    "\n",
    "# Q7: How many distinct data types are there in `df`?\n",
    "df_data_types_count =    # this should be an integer\n",
    "\n",
    "# Q8: In `df`, create a new column 'sub_region_raw', which will be a copy of the column 'Unnamed: 0'\n",
    "\n",
    "# Q9: In `df`, rename 'Unnamed: 0' to 'sub_region_desc'\n",
    "\n",
    "# Q10: In `df`, rename the column 'area' to: 'sub_region'\n",
    "\n",
    "# Q11: In `df`, get the unique values of the field 'region'\n",
    "region_unique = \n",
    "\n",
    "# Q12: In `df`, how many unique values of the field 'sub_region' are there?\n",
    "sub_region_unique_count =   # should be an integer\n",
    "\n",
    "# Q13: Lets take a look at the field `sub_region_desc`:\n",
    "\n",
    "# >>> df['sub_region_desc'].head(5)\n",
    "# 0    1.North-Apulia\n",
    "# 1    2.North-Apulia\n",
    "# 2    3.North-Apulia\n",
    "# 3    4.North-Apulia\n",
    "# 4    5.North-Apulia\n",
    "\n",
    "# Looks like 'sub_region_desc' has line numbers attached to the beginning of region name. Remove those and get the unique values in that field, assign it to `srd_unique`\n",
    "srd_unique = "
   ]
  },
  {
   "cell_type": "code",
   "execution_count": null,
   "metadata": {},
   "outputs": [],
   "source": []
  }
 ],
 "metadata": {
  "kernelspec": {
   "display_name": "Python 3",
   "language": "python",
   "name": "python3"
  },
  "language_info": {
   "codemirror_mode": {
    "name": "ipython",
    "version": 3
   },
   "file_extension": ".py",
   "mimetype": "text/x-python",
   "name": "python",
   "nbconvert_exporter": "python",
   "pygments_lexer": "ipython3",
   "version": "3.7.4"
  }
 },
 "nbformat": 4,
 "nbformat_minor": 2
}
